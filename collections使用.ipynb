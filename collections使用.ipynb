{
 "cells": [
  {
   "cell_type": "markdown",
   "metadata": {},
   "source": [
    "## collections\n",
    ">collections在python的官方文档中的解释为**High-performance container datatypes**，直接的中文翻译为高性能容量数据类型"
   ]
  },
  {
   "cell_type": "code",
   "execution_count": 1,
   "metadata": {},
   "outputs": [],
   "source": [
    "import collections"
   ]
  },
  {
   "cell_type": "markdown",
   "metadata": {},
   "source": [
    "### Counter\n",
    ">Counterdict的一个子类，主要是用来对你所访问的对象的频率进行次数的统计\n",
    "\n",
    "常用的方法有：\n",
    "- elements()：返回一个迭代器，每个元素重复计算的个数，如果一个元素的计数小于1，就会被忽略\n",
    "- most_common([n])：返回一个列表，提供n个访问访问频率最高的元素和计数\n",
    "- substract([iterable-or-mapping])：从迭代对象中减去元素，输入输出可以是0或者负数\n",
    "- update([iterable-or-mapping])：从迭代对象计数元素或者从另一个映射对象（或计数器）添加"
   ]
  },
  {
   "cell_type": "code",
   "execution_count": 4,
   "metadata": {},
   "outputs": [
    {
     "data": {
      "text/plain": [
       "Counter({'h': 1, 'e': 1, 'l': 3, 'o': 2, ' ': 1, 'w': 1, 'r': 1, 'd': 1})"
      ]
     },
     "execution_count": 4,
     "metadata": {},
     "output_type": "execute_result"
    }
   ],
   "source": [
    "# 统计字符出现次数\n",
    "c = collections.Counter('hello world')\n",
    "c"
   ]
  },
  {
   "cell_type": "code",
   "execution_count": 5,
   "metadata": {},
   "outputs": [
    {
     "data": {
      "text/plain": [
       "Counter({'hello': 3, 'world': 2, 'nihao': 1})"
      ]
     },
     "execution_count": 5,
     "metadata": {},
     "output_type": "execute_result"
    }
   ],
   "source": [
    "# 统计单词出现个数\n",
    "c = collections.Counter('hello world hello world hello nihao'.split())\n",
    "c"
   ]
  },
  {
   "cell_type": "code",
   "execution_count": 6,
   "metadata": {},
   "outputs": [
    {
     "name": "stdout",
     "output_type": "stream",
     "text": [
      "Counter({'hello': 2, 'world': 1}) <class 'collections.Counter'>\n",
      "Counter({'hello': 2, 'world': 1}) dict_keys(['hello', 'world']) dict_values([2, 1])\n"
     ]
    }
   ],
   "source": [
    "# 可以看到collection.Counter返回的是一个字典类型，可以用过keys和values对其进行访问，同时，既然是字典类型，那么可以用dict[key]对value进行访问\n",
    "c = collections.Counter('hello hello world'.split())\n",
    "print(c,type(c))\n",
    "print(c,c.keys(),c.values())"
   ]
  },
  {
   "cell_type": "code",
   "execution_count": 8,
   "metadata": {},
   "outputs": [
    {
     "name": "stdout",
     "output_type": "stream",
     "text": [
      "查看元素 ['hello', 'hello', 'world']\n"
     ]
    }
   ],
   "source": [
    "# 查看元素\n",
    "print('查看元素',list(c.elements()))"
   ]
  },
  {
   "cell_type": "code",
   "execution_count": 15,
   "metadata": {},
   "outputs": [
    {
     "name": "stdout",
     "output_type": "stream",
     "text": [
      "增加元素 Counter({'hello': 2, 'world': 1})\n",
      "['hello', 'hello', 'world'] ['hello', 'hello', 'world']\n",
      "减少元素 Counter({'world': 1})\n",
      "['world'] ['world']\n",
      "清除元素 Counter()\n"
     ]
    }
   ],
   "source": [
    "# 追加元素或者减少元素\n",
    "# update与subtract函数无返回值，直接在原有对象上面进行操作\n",
    "c = collections.Counter('hello world'.split())\n",
    "d = collections.Counter('hello'.split())\n",
    "# 追加元素\n",
    "add1 = c+d\n",
    "add2 = c.copy()\n",
    "add2.update(d)\n",
    "print('增加元素',add1)\n",
    "print(list(add1.elements()),list(add2.elements()))\n",
    "# 减少元素\n",
    "sub1 = c-d\n",
    "sub2 = c.copy()\n",
    "sub2.subtract(d)\n",
    "print('减少元素',sub1)\n",
    "print(list(sub1.elements()),list(sub2.elements()))\n",
    "# 清除元素\n",
    "c.clear()\n",
    "print('清除元素',c)"
   ]
  },
  {
   "cell_type": "markdown",
   "metadata": {},
   "source": [
    "### defaultdict\n",
    ">collections.defaultdict(default_factory)为字典的没有的key值提供一个默认的值。参数应该是一个函数，当没有参数调用时返回默认值，如果没有传递任何内容，则默认为None"
   ]
  },
  {
   "cell_type": "code",
   "execution_count": 16,
   "metadata": {},
   "outputs": [
    {
     "name": "stdout",
     "output_type": "stream",
     "text": [
      "defaultdict(None, {}) defaultdict(<class 'str'>, {})\n"
     ]
    }
   ],
   "source": [
    "d = collections.defaultdict()\n",
    "e = collections.defaultdict(str)\n",
    "print(d,e)"
   ]
  },
  {
   "cell_type": "markdown",
   "metadata": {},
   "source": [
    "defaultdict的一个典型用法是使用其中一种内置类型（如str、int、list或dict）作为默认工厂，因为这些内置类型在没有参数调用时返回空类型"
   ]
  },
  {
   "cell_type": "code",
   "execution_count": 22,
   "metadata": {},
   "outputs": [
    {
     "name": "stdout",
     "output_type": "stream",
     "text": [
      "defaultdict(<class 'list'>, {})\n",
      "hello: []\n",
      "defaultdict(<class 'list'>, {'hello': []})\n"
     ]
    }
   ],
   "source": [
    "# 可以看到collections中defaultdict与dict类型最大的不同时，在输入字典中没有的key值时，会默认更新一个对应value为指定类型的空值，并不会抛除异常\n",
    "# str-----> ''\n",
    "# int-----> 0\n",
    "# list----> []\n",
    "d = collections.defaultdict(list)\n",
    "print(d)\n",
    "print('hello:',d['hello'])\n",
    "print(d)"
   ]
  },
  {
   "cell_type": "markdown",
   "metadata": {},
   "source": [
    "### OrderedDict\n",
    ">Python字典中的键的顺序是任意的：它们不受添加的顺序的控制，**collections.OrderedDict**类提供了保留它们添加顺序的字典对象"
   ]
  },
  {
   "cell_type": "code",
   "execution_count": 24,
   "metadata": {},
   "outputs": [
    {
     "name": "stdout",
     "output_type": "stream",
     "text": [
      "OrderedDict([('0', 0), ('1', 1), ('2', 2), ('3', 3), ('4', 4), ('5', 5), ('6', 6), ('7', 7), ('8', 8), ('9', 9)]) {'0': 0, '1': 1, '2': 2, '3': 3, '4': 4, '5': 5, '6': 6, '7': 7, '8': 8, '9': 9}\n"
     ]
    }
   ],
   "source": [
    "# 如果在已经存在的key上添加新的值，将会保留原来的key的位置，然后覆盖value值\n",
    "orderDict = collections.OrderedDict()\n",
    "normalDict = dict()\n",
    "for i in range(10):\n",
    "    orderDict.update({str(i):i})\n",
    "    normalDict.update({str(i):i})\n",
    "print(orderDict,normalDict)"
   ]
  },
  {
   "cell_type": "markdown",
   "metadata": {},
   "source": [
    "### namedtuple\n",
    ">三种定义命名元组的方法：第一个参数是命名元组的构造器（如下的：Person，Human）"
   ]
  },
  {
   "cell_type": "code",
   "execution_count": 25,
   "metadata": {},
   "outputs": [],
   "source": [
    "Person = collections.namedtuple('Person',['age','height','name'])\n",
    "Human = collections.namedtuple('Human','age,height,name')\n",
    "Human2 = collections.namedtuple('Human2','age height name')"
   ]
  },
  {
   "cell_type": "code",
   "execution_count": 26,
   "metadata": {},
   "outputs": [
    {
     "name": "stdout",
     "output_type": "stream",
     "text": [
      "Person(age=30, height=178, name='Tom') Human(age=20, height=179, name='jack')\n",
      "30 jack\n"
     ]
    }
   ],
   "source": [
    "# 实例化命名元组\n",
    "tom = Person(30,178,'Tom')\n",
    "jack = Human(20,179,'jack')\n",
    "print(tom,jack)\n",
    "# 直接通过 实例名+.+属性 来调用\n",
    "print(tom.age,jack.name)"
   ]
  },
  {
   "cell_type": "markdown",
   "metadata": {},
   "source": [
    "### deque\n",
    ">**collections.deque**返回一个新的双向队列对象，从左到右初始化(用方法append()),从iterable(迭代对象)数据创建。如果iterable没有指定，新队列为空\n",
    ">**collections.deque**队列支持线程安全，对于从两端添加(append)或者弹出(pop)，复杂度为O(1)\n",
    ">>虽然**list**对象也支持类似操作，但是这里优化了定长操作(pop(0)、insert(0,v))的开销\n",
    "如果maxlen没有指定或者是None，deques可以增长到任意长度，否则，deque就限定到指定最大长度。**一旦限定长度的deque满了，当新项加入时，同样数量的项就从另一端弹出**\n",
    "支持的方法：\n",
    "- append(x)：添加x到右端\n",
    "- appendleft(x)：添加x到左端\n",
    "- clear()：清除所有元素，长度变为0\n",
    "- copy()：创建一份浅拷贝\n",
    "- count(x)：计算队列中个数等于x的元素\n",
    "- extend(iterable)：在队列右侧添加iterable中的元素\n",
    "- extendleft(iterable)：在队列左侧添加iterable中的元素，注：往左侧添加时，iterable参数的顺序将会反过来添加\n",
    "- index(x[,start[,stop]])：返回第x个元素(从start开始计算，在stop之前)。返回第一个匹配，如果没有找到的话，提出**ValueError**异常\n",
    "- insert(i,x)：在位置i插入x。注：如果插入会导致一个限长deque超出长度maxlen的话，就抛出一个**IndexError**\n",
    "- pop()：移除最右侧的元素\n",
    "- popleft()：移除最左侧的元素\n",
    "- remove(value)：移去找到的第一个value，没有则抛出**ValueError**\n",
    "- reverse()：将deque逆序排列，返回None\n",
    "- maxlen：队列的最大长度，没有限定则为None"
   ]
  },
  {
   "cell_type": "code",
   "execution_count": 27,
   "metadata": {},
   "outputs": [
    {
     "name": "stdout",
     "output_type": "stream",
     "text": [
      "deque([], maxlen=10)\n",
      "['P', 'Y', 'T', 'H', 'O', 'N']\n",
      "deque(['f', 'p', 'y', 't', 'h', 'o', 'n', 'e'], maxlen=10)\n"
     ]
    }
   ],
   "source": [
    "d = collections.deque(maxlen=10)\n",
    "print(d)\n",
    "\n",
    "d.extend('python')\n",
    "print([i.upper() for i in d])\n",
    "\n",
    "d.append('e')\n",
    "d.appendleft('f')\n",
    "print(d)"
   ]
  },
  {
   "cell_type": "markdown",
   "metadata": {},
   "source": [
    "### ChainMap\n",
    ">一个ChainMap将多个字典或者其他映射组合在一起，创建一个单独的可更新的试图。如果没有maps被指定，就提供一个默认的空字典。**ChainMap**是管理嵌套上下文和覆盖的有用工具"
   ]
  },
  {
   "cell_type": "code",
   "execution_count": 30,
   "metadata": {},
   "outputs": [
    {
     "name": "stdout",
     "output_type": "stream",
     "text": [
      "ChainMap({'apple': 1, 'banana': 2}, {'orange': 2, 'apple': 3, 'pike': 1})\n",
      "ChainMap({'orange': 2, 'apple': 3, 'pike': 1}, {'apple': 1, 'banana': 2})\n",
      "orange 2\n",
      "apple 1\n",
      "pike 1\n",
      "banana 2\n",
      "=============reverse===============\n",
      "apple 3\n",
      "banana 2\n",
      "orange 2\n",
      "pike 1\n",
      "1 3\n"
     ]
    }
   ],
   "source": [
    "d1 = {'apple':1,'banana':2}\n",
    "d2 = {'orange':2,'apple':3,'pike':1}\n",
    "combined_d = collections.ChainMap(d1,d2)\n",
    "reverse_combined_d = collections.ChainMap(d2,d1)\n",
    "print(combined_d)\n",
    "print(reverse_combined_d)\n",
    "for k,v in combined_d.items():\n",
    "    print(k,v)\n",
    "print('=============reverse===============')\n",
    "for k,v in reverse_combined_d.items():\n",
    "    print(k,v)\n",
    "# 可以看出在多个字典含有相同的key值的情况下，ChainMap仅仅保留第一个key值对应的value值\n",
    "print(combined_d['apple'],reverse_combined_d['apple'])"
   ]
  },
  {
   "cell_type": "code",
   "execution_count": null,
   "metadata": {},
   "outputs": [],
   "source": []
  }
 ],
 "metadata": {
  "kernelspec": {
   "display_name": "Python 3.9.7 64-bit",
   "language": "python",
   "name": "python3"
  },
  "language_info": {
   "codemirror_mode": {
    "name": "ipython",
    "version": 3
   },
   "file_extension": ".py",
   "mimetype": "text/x-python",
   "name": "python",
   "nbconvert_exporter": "python",
   "pygments_lexer": "ipython3",
   "version": "3.9.7"
  },
  "orig_nbformat": 4,
  "vscode": {
   "interpreter": {
    "hash": "aee8b7b246df8f9039afb4144a1f6fd8d2ca17a180786b69acc140d282b71a49"
   }
  }
 },
 "nbformat": 4,
 "nbformat_minor": 2
}
